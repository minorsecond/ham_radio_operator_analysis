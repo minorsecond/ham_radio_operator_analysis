{
 "cells": [
  {
   "cell_type": "code",
   "execution_count": 1,
   "id": "f74bdd02-d46c-4173-8774-03b665c687df",
   "metadata": {},
   "outputs": [],
   "source": [
    "import csv\n",
    "import psycopg2\n",
    "from psycopg2 import sql"
   ]
  },
  {
   "cell_type": "code",
   "execution_count": 2,
   "id": "c45ffde5-aeca-4769-924d-2902c7c23bdf",
   "metadata": {},
   "outputs": [],
   "source": [
    "data_path = '../../../data/raw/l_amat_20240501/EN.dat'"
   ]
  },
  {
   "cell_type": "code",
   "execution_count": 3,
   "id": "320320d3-19e4-4fec-844b-c3cf7adee380",
   "metadata": {},
   "outputs": [],
   "source": [
    "db_params = {\n",
    "    'dbname': 'ross_projects',\n",
    "    'user': 'rwardrup',\n",
    "    'password': 'Rward0232',\n",
    "    'host': '192.168.3.231',\n",
    "    'options': '-c client_encoding=utf8'\n",
    "}"
   ]
  },
  {
   "cell_type": "code",
   "execution_count": 4,
   "id": "9dcab90d-2110-44a6-a286-b4282090facb",
   "metadata": {},
   "outputs": [],
   "source": [
    "drop_table_query = \"\"\"\n",
    "DROP TABLE IF EXISTS ham_ops.entity_data\"\"\"\n",
    "\n",
    "create_table_query = \"\"\"\n",
    "CREATE TABLE if not exists ham_ops.entity_data (\n",
    "    record_type CHAR(2),\n",
    "    unique_system_identifier NUMERIC(9,0),\n",
    "    uls_file_number CHAR(14),\n",
    "    ebf_number VARCHAR(30),\n",
    "    call_sign CHAR(10),\n",
    "    entity_type CHAR(2),\n",
    "    licensee_id CHAR(9),\n",
    "    entity_name VARCHAR(200),\n",
    "    first_name VARCHAR(40),\n",
    "    mi CHAR(1),\n",
    "    last_name VARCHAR(40),\n",
    "    suffix CHAR(3),\n",
    "    phone CHAR(10),\n",
    "    fax CHAR(10),\n",
    "    email VARCHAR(50),\n",
    "    street_address VARCHAR(60),\n",
    "    city VARCHAR(40),\n",
    "    state CHAR(2),\n",
    "    zip_code CHAR(9),\n",
    "    po_box VARCHAR(40),\n",
    "    attention_line VARCHAR(35),\n",
    "    sgin CHAR(3),\n",
    "    fcc_registration_number CHAR(10),\n",
    "    applicant_type_code CHAR(1),\n",
    "    applicant_type_code_other VARCHAR(40),\n",
    "    status_code CHAR(1),\n",
    "    status_date DATE,\n",
    "    three_point_seven_ghz_license_type CHAR(1),\n",
    "    linked_unique_system_identifier NUMERIC(9,0),\n",
    "    linked_call_sign CHAR(10)\n",
    ");\n",
    "\"\"\""
   ]
  },
  {
   "cell_type": "code",
   "execution_count": null,
   "id": "76e0976d-ab29-4e4d-8c55-162258f62cd9",
   "metadata": {},
   "outputs": [],
   "source": [
    "def setup_database(params, query):\n",
    "    conn = psycopg2.connect(**params)\n",
    "    conn.set_client_encoding('UTF8')\n",
    "    cursor = conn.cursor()\n",
    "    cursor.execute(query)\n",
    "    conn.commit()\n",
    "    cursor.close()\n",
    "    conn.close()\n",
    "\n",
    "# Function to insert data into the database\n",
    "def insert_data(params, data):\n",
    "    conn = psycopg2.connect(**params)\n",
    "    cursor = conn.cursor()\n",
    "    insert_query = sql.SQL(\"\"\"\n",
    "    INSERT INTO ham_ops.entity_data VALUES ({})\n",
    "    \"\"\").format(sql.SQL(', ').join(sql.Placeholder() * len(data[0])))\n",
    "    cursor.executemany(insert_query, data)\n",
    "    conn.commit()\n",
    "    cursor.close()\n",
    "    conn.close()\n",
    "\n",
    "def process_and_load(filename, db_params):\n",
    "    with open(filename, 'r', newline='', encoding='utf-8') as file:\n",
    "        reader = csv.reader(file, delimiter='|')\n",
    "        data = [row for row in reader if any(field.strip() for field in row)]\n",
    "\n",
    "    if not data:\n",
    "        print(\"No data to insert.\")\n",
    "        return\n",
    "\n",
    "    insert_data(db_params, data)"
   ]
  },
  {
   "cell_type": "code",
   "execution_count": null,
   "id": "5a3bcd2b-3130-4c22-b789-49e5519ca7f6",
   "metadata": {},
   "outputs": [],
   "source": [
    "# Drop table\n",
    "setup_database(db_params, drop_table_query)\n",
    "# Set up the database table\n",
    "setup_database(db_params, create_table_query)\n",
    "\n",
    "# Process the .dat file and load the data into the database\n",
    "process_and_load(data_path, db_params)"
   ]
  },
  {
   "cell_type": "code",
   "execution_count": null,
   "id": "9af96b7a-0e89-47cf-98d4-cd189e914cb8",
   "metadata": {},
   "outputs": [],
   "source": []
  }
 ],
 "metadata": {
  "kernelspec": {
   "display_name": "Python 3 (ipykernel)",
   "language": "python",
   "name": "python3"
  },
  "language_info": {
   "codemirror_mode": {
    "name": "ipython",
    "version": 3
   },
   "file_extension": ".py",
   "mimetype": "text/x-python",
   "name": "python",
   "nbconvert_exporter": "python",
   "pygments_lexer": "ipython3",
   "version": "3.10.10"
  }
 },
 "nbformat": 4,
 "nbformat_minor": 5
}
