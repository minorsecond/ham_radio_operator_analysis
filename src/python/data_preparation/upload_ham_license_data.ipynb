{
 "cells": [
  {
   "cell_type": "code",
   "execution_count": 1,
   "id": "10ea678e-d100-41c5-be67-3cbd21baf753",
   "metadata": {},
   "outputs": [],
   "source": [
    "import csv\n",
    "import psycopg2\n",
    "from psycopg2 import sql"
   ]
  },
  {
   "cell_type": "code",
   "execution_count": 6,
   "id": "33f30cc5-dcbf-429a-acac-3e53e65c166a",
   "metadata": {},
   "outputs": [],
   "source": [
    "data_path = '../../../data/raw/l_amat_20240501/AM.dat'"
   ]
  },
  {
   "cell_type": "code",
   "execution_count": 2,
   "id": "1631f8d7-9955-48c6-a98e-ec6504bd018d",
   "metadata": {},
   "outputs": [],
   "source": [
    "db_params = {\n",
    "    'dbname': 'ross_projects',\n",
    "    'user': 'rwardrup',\n",
    "    'password': 'Rward0232',\n",
    "    'host': '192.168.3.231'\n",
    "}"
   ]
  },
  {
   "cell_type": "code",
   "execution_count": 10,
   "id": "ee3d2044-83be-4793-a449-3fea22262eb7",
   "metadata": {},
   "outputs": [],
   "source": [
    "create_table_query = \"\"\"\n",
    "CREATE TABLE if not exists ham_ops.amateur_data (\n",
    "    record_type CHAR(2),\n",
    "    unique_system_identifier NUMERIC(9,0),\n",
    "    uls_file_number CHAR(14),\n",
    "    ebf_number VARCHAR(30),\n",
    "    call_sign CHAR(10),\n",
    "    operator_class CHAR(1),\n",
    "    group_code CHAR(1),\n",
    "    region_code SMALLINT,\n",
    "    trustee_call_sign CHAR(10),\n",
    "    trustee_indicator CHAR(1),\n",
    "    physician_certification CHAR(1),\n",
    "    ve_signature CHAR(1),\n",
    "    systematic_call_sign_change CHAR(1),\n",
    "    vanity_call_sign_change CHAR(1),\n",
    "    vanity_relationship VARCHAR(12),\n",
    "    previous_call_sign CHAR(10),\n",
    "    previous_operator_class CHAR(1),\n",
    "    trustee_name VARCHAR(50)\n",
    ");\"\"\""
   ]
  },
  {
   "cell_type": "code",
   "execution_count": 11,
   "id": "3dc99371-67e7-4541-8e35-078423c002e4",
   "metadata": {},
   "outputs": [],
   "source": [
    "def setup_database(params, query):\n",
    "    conn = psycopg2.connect(**params)\n",
    "    cursor = conn.cursor()\n",
    "    cursor.execute(query)\n",
    "    conn.commit()\n",
    "    cursor.close()\n",
    "    conn.close()\n",
    "\n",
    "# Function to insert data into the database\n",
    "def insert_data(params, data):\n",
    "    conn = psycopg2.connect(**params)\n",
    "    cursor = conn.cursor()\n",
    "    insert_query = sql.SQL(\"\"\"\n",
    "    INSERT INTO ham_ops.amateur_data VALUES ({})\n",
    "    \"\"\").format(sql.SQL(', ').join(sql.Placeholder() * len(data[0])))\n",
    "    cursor.executemany(insert_query, data)\n",
    "    conn.commit()\n",
    "    cursor.close()\n",
    "    conn.close()\n",
    "\n",
    "# Function to process the .dat file and load data\n",
    "def process_and_load(filename, db_params):\n",
    "    with open(filename, 'r', newline='') as file:\n",
    "        reader = csv.reader(file, delimiter='|')\n",
    "        data = [[None if cell == '' else cell for cell in row] for row in reader]\n",
    "    insert_data(db_params, data)"
   ]
  },
  {
   "cell_type": "code",
   "execution_count": 12,
   "id": "fb6b279e-3620-45ed-9c5d-1a4be608cfa9",
   "metadata": {},
   "outputs": [],
   "source": [
    "# Set up the database table\n",
    "setup_database(db_params, create_table_query)\n",
    "\n",
    "# Process the .dat file and load the data into the database\n",
    "process_and_load(data_path, db_params)"
   ]
  }
 ],
 "metadata": {
  "kernelspec": {
   "display_name": "Python 3 (ipykernel)",
   "language": "python",
   "name": "python3"
  },
  "language_info": {
   "codemirror_mode": {
    "name": "ipython",
    "version": 3
   },
   "file_extension": ".py",
   "mimetype": "text/x-python",
   "name": "python",
   "nbconvert_exporter": "python",
   "pygments_lexer": "ipython3",
   "version": "3.10.10"
  }
 },
 "nbformat": 4,
 "nbformat_minor": 5
}
