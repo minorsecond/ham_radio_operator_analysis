{
 "cells": [
  {
   "cell_type": "code",
   "execution_count": 1,
   "id": "f74bdd02-d46c-4173-8774-03b665c687df",
   "metadata": {},
   "outputs": [],
   "source": [
    "import csv\n",
    "import psycopg2\n",
    "from psycopg2 import sql"
   ]
  },
  {
   "cell_type": "code",
   "execution_count": 2,
   "id": "c45ffde5-aeca-4769-924d-2902c7c23bdf",
   "metadata": {},
   "outputs": [],
   "source": [
    "data_path = '../../../data/raw/l_amat_20240501/EN.dat'"
   ]
  },
  {
   "cell_type": "code",
   "execution_count": 10,
   "id": "320320d3-19e4-4fec-844b-c3cf7adee380",
   "metadata": {},
   "outputs": [],
   "source": [
    "db_params = {\n",
    "    'dbname': 'ross_projects',\n",
    "    'user': 'rwardrup',\n",
    "    'password': 'Rward0232',\n",
    "    'host': '192.168.3.231',\n",
    "    'options': '-c client_encoding=utf8'\n",
    "}"
   ]
  },
  {
   "cell_type": "code",
   "execution_count": 1,
   "id": "9dcab90d-2110-44a6-a286-b4282090facb",
   "metadata": {},
   "outputs": [],
   "source": [
    "drop_table_query = \"\"\"\n",
    "DROP TABLE IF EXISTS ham_ops.entity_data\"\"\"\n",
    "\n",
    "create_table_query = \"\"\"\n",
    "CREATE TABLE if not exists ham_ops.entity_data (\n",
    "    record_type CHAR(2),\n",
    "    unique_system_identifier NUMERIC(9,0),\n",
    "    uls_file_number CHAR(14),\n",
    "    ebf_number VARCHAR(30),\n",
    "    call_sign CHAR(10),\n",
    "    entity_type CHAR(2),\n",
    "    licensee_id CHAR(9),\n",
    "    entity_name VARCHAR(200),\n",
    "    first_name VARCHAR(40),\n",
    "    mi CHAR(1),\n",
    "    last_name VARCHAR(40),\n",
    "    suffix CHAR(3),\n",
    "    phone CHAR(10),\n",
    "    fax CHAR(10),\n",
    "    email VARCHAR(50),\n",
    "    street_address VARCHAR(60),\n",
    "    city VARCHAR(40),\n",
    "    state CHAR(2),\n",
    "    zip_code CHAR(9),\n",
    "    po_box VARCHAR(40),\n",
    "    attention_line VARCHAR(35),\n",
    "    sgin CHAR(3),\n",
    "    fcc_registration_number CHAR(10),\n",
    "    applicant_type_code CHAR(1),\n",
    "    applicant_type_code_other VARCHAR(40),\n",
    "    status_code CHAR(1),\n",
    "    status_date DATE,\n",
    "    three_point_seven_ghz_license_type CHAR(1),\n",
    "    linked_unique_system_identifier NUMERIC(9,0),\n",
    "    linked_call_sign CHAR(10)\n",
    ");\n",
    "\"\"\""
   ]
  },
  {
   "cell_type": "code",
   "execution_count": 11,
   "id": "76e0976d-ab29-4e4d-8c55-162258f62cd9",
   "metadata": {},
   "outputs": [],
   "source": [
    "def setup_database(params, query):\n",
    "    conn = psycopg2.connect(**params)\n",
    "    conn.set_client_encoding('UTF8')\n",
    "    cursor = conn.cursor()\n",
    "    cursor.execute(query)\n",
    "    conn.commit()\n",
    "    cursor.close()\n",
    "    conn.close()\n",
    "\n",
    "# Function to insert data into the database\n",
    "def insert_data(params, data):\n",
    "    conn = psycopg2.connect(**params)\n",
    "    cursor = conn.cursor()\n",
    "    insert_query = sql.SQL(\"\"\"\n",
    "    INSERT INTO ham_ops.entity_data VALUES ({})\n",
    "    \"\"\").format(sql.SQL(', ').join(sql.Placeholder() * len(data[0])))\n",
    "    cursor.executemany(insert_query, data)\n",
    "    conn.commit()\n",
    "    cursor.close()\n",
    "    conn.close()\n",
    "\n",
    "def process_and_load(filename, db_params):\n",
    "    with open(filename, 'r', newline='', encoding='utf-8') as file:  # Specify UTF-8 encoding here\n",
    "        reader = csv.reader(file, delimiter='|')\n",
    "        data = [[None if cell == '' else cell for cell in row] for row in reader]\n",
    "    insert_data(db_params, data)"
   ]
  },
  {
   "cell_type": "code",
   "execution_count": 12,
   "id": "5a3bcd2b-3130-4c22-b789-49e5519ca7f6",
   "metadata": {},
   "outputs": [
    {
     "ename": "StringDataRightTruncation",
     "evalue": "value too long for type character varying(20)\n",
     "output_type": "error",
     "traceback": [
      "\u001b[0;31m---------------------------------------------------------------------------\u001b[0m",
      "\u001b[0;31mStringDataRightTruncation\u001b[0m                 Traceback (most recent call last)",
      "Cell \u001b[0;32mIn[12], line 5\u001b[0m\n\u001b[1;32m      2\u001b[0m setup_database(db_params, create_table_query)\n\u001b[1;32m      4\u001b[0m \u001b[38;5;66;03m# Process the .dat file and load the data into the database\u001b[39;00m\n\u001b[0;32m----> 5\u001b[0m \u001b[43mprocess_and_load\u001b[49m\u001b[43m(\u001b[49m\u001b[43mdata_path\u001b[49m\u001b[43m,\u001b[49m\u001b[43m \u001b[49m\u001b[43mdb_params\u001b[49m\u001b[43m)\u001b[49m\n",
      "Cell \u001b[0;32mIn[11], line 26\u001b[0m, in \u001b[0;36mprocess_and_load\u001b[0;34m(filename, db_params)\u001b[0m\n\u001b[1;32m     24\u001b[0m     reader \u001b[38;5;241m=\u001b[39m csv\u001b[38;5;241m.\u001b[39mreader(file, delimiter\u001b[38;5;241m=\u001b[39m\u001b[38;5;124m'\u001b[39m\u001b[38;5;124m|\u001b[39m\u001b[38;5;124m'\u001b[39m)\n\u001b[1;32m     25\u001b[0m     data \u001b[38;5;241m=\u001b[39m [[\u001b[38;5;28;01mNone\u001b[39;00m \u001b[38;5;28;01mif\u001b[39;00m cell \u001b[38;5;241m==\u001b[39m \u001b[38;5;124m'\u001b[39m\u001b[38;5;124m'\u001b[39m \u001b[38;5;28;01melse\u001b[39;00m cell \u001b[38;5;28;01mfor\u001b[39;00m cell \u001b[38;5;129;01min\u001b[39;00m row] \u001b[38;5;28;01mfor\u001b[39;00m row \u001b[38;5;129;01min\u001b[39;00m reader]\n\u001b[0;32m---> 26\u001b[0m \u001b[43minsert_data\u001b[49m\u001b[43m(\u001b[49m\u001b[43mdb_params\u001b[49m\u001b[43m,\u001b[49m\u001b[43m \u001b[49m\u001b[43mdata\u001b[49m\u001b[43m)\u001b[49m\n",
      "Cell \u001b[0;32mIn[11], line 17\u001b[0m, in \u001b[0;36minsert_data\u001b[0;34m(params, data)\u001b[0m\n\u001b[1;32m     13\u001b[0m cursor \u001b[38;5;241m=\u001b[39m conn\u001b[38;5;241m.\u001b[39mcursor()\n\u001b[1;32m     14\u001b[0m insert_query \u001b[38;5;241m=\u001b[39m sql\u001b[38;5;241m.\u001b[39mSQL(\u001b[38;5;124m\"\"\"\u001b[39m\n\u001b[1;32m     15\u001b[0m \u001b[38;5;124mINSERT INTO ham_ops.entity_data VALUES (\u001b[39m\u001b[38;5;132;01m{}\u001b[39;00m\u001b[38;5;124m)\u001b[39m\n\u001b[1;32m     16\u001b[0m \u001b[38;5;124m\u001b[39m\u001b[38;5;124m\"\"\"\u001b[39m)\u001b[38;5;241m.\u001b[39mformat(sql\u001b[38;5;241m.\u001b[39mSQL(\u001b[38;5;124m'\u001b[39m\u001b[38;5;124m, \u001b[39m\u001b[38;5;124m'\u001b[39m)\u001b[38;5;241m.\u001b[39mjoin(sql\u001b[38;5;241m.\u001b[39mPlaceholder() \u001b[38;5;241m*\u001b[39m \u001b[38;5;28mlen\u001b[39m(data[\u001b[38;5;241m0\u001b[39m])))\n\u001b[0;32m---> 17\u001b[0m \u001b[43mcursor\u001b[49m\u001b[38;5;241;43m.\u001b[39;49m\u001b[43mexecutemany\u001b[49m\u001b[43m(\u001b[49m\u001b[43minsert_query\u001b[49m\u001b[43m,\u001b[49m\u001b[43m \u001b[49m\u001b[43mdata\u001b[49m\u001b[43m)\u001b[49m\n\u001b[1;32m     18\u001b[0m conn\u001b[38;5;241m.\u001b[39mcommit()\n\u001b[1;32m     19\u001b[0m cursor\u001b[38;5;241m.\u001b[39mclose()\n",
      "\u001b[0;31mStringDataRightTruncation\u001b[0m: value too long for type character varying(20)\n"
     ]
    }
   ],
   "source": [
    "# Drop table\n",
    "setup_database(db_params, drop_table_query)\n",
    "# Set up the database table\n",
    "setup_database(db_params, create_table_query)\n",
    "\n",
    "# Process the .dat file and load the data into the database\n",
    "process_and_load(data_path, db_params)"
   ]
  }
 ],
 "metadata": {
  "kernelspec": {
   "display_name": "Python 3 (ipykernel)",
   "language": "python",
   "name": "python3"
  },
  "language_info": {
   "codemirror_mode": {
    "name": "ipython",
    "version": 3
   },
   "file_extension": ".py",
   "mimetype": "text/x-python",
   "name": "python",
   "nbconvert_exporter": "python",
   "pygments_lexer": "ipython3",
   "version": "3.10.10"
  }
 },
 "nbformat": 4,
 "nbformat_minor": 5
}
