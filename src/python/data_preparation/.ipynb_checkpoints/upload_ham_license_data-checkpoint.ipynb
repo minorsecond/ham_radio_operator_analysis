{
 "cells": [
  {
   "cell_type": "code",
   "execution_count": 1,
   "id": "10ea678e-d100-41c5-be67-3cbd21baf753",
   "metadata": {},
   "outputs": [],
   "source": [
    "import csv\n",
    "import psycopg2\n",
    "from psycopg2 import sql"
   ]
  },
  {
   "cell_type": "code",
   "execution_count": 6,
   "id": "33f30cc5-dcbf-429a-acac-3e53e65c166a",
   "metadata": {},
   "outputs": [],
   "source": [
    "data_path = '../../../data/raw/l_amat_20240501/AM.dat'"
   ]
  },
  {
   "cell_type": "code",
   "execution_count": 2,
   "id": "1631f8d7-9955-48c6-a98e-ec6504bd018d",
   "metadata": {},
   "outputs": [],
   "source": [
    "db_params = {\n",
    "    'dbname': 'ross_projects',\n",
    "    'user': 'rwardrup',\n",
    "    'password': 'Rward0232',\n",
    "    'host': '192.168.3.231'\n",
    "}"
   ]
  },
  {
   "cell_type": "code",
   "execution_count": 4,
   "id": "ee3d2044-83be-4793-a449-3fea22262eb7",
   "metadata": {},
   "outputs": [],
   "source": [
    "create_table_query = \"\"\"\n",
    "CREATE TABLE if not exists ham_ops.amateur_data (\n",
    "    record_type CHAR(2),\n",
    "    unique_system_identifier NUMERIC(9,0),\n",
    "    uls_file_number CHAR(14),\n",
    "    ebf_number VARCHAR(30),\n",
    "    call_sign CHAR(10),\n",
    "    operator_class CHAR(1),\n",
    "    group_code CHAR(1),\n",
    "    region_code SMALLINT,\n",
    "    trustee_call_sign CHAR(10),\n",
    "    trustee_indicator CHAR(1),\n",
    "    physician_certification CHAR(1),\n",
    "    ve_signature CHAR(1),\n",
    "    systematic_call_sign_change CHAR(1),\n",
    "    vanity_call_sign_change CHAR(1),\n",
    "    vanity_relationship VARCHAR(12),\n",
    "    previous_call_sign CHAR(10),\n",
    "    previous_operator_class CHAR(1),\n",
    "    trustee_name VARCHAR(50)\n",
    ");\"\"\""
   ]
  },
  {
   "cell_type": "code",
   "execution_count": 8,
   "id": "3dc99371-67e7-4541-8e35-078423c002e4",
   "metadata": {},
   "outputs": [],
   "source": [
    "def setup_database(params, query):\n",
    "    conn = psycopg2.connect(**params)\n",
    "    cursor = conn.cursor()\n",
    "    cursor.execute(query)\n",
    "    conn.commit()\n",
    "    cursor.close()\n",
    "    conn.close()\n",
    "\n",
    "# Function to insert data into the database\n",
    "def insert_data(params, data):\n",
    "    conn = psycopg2.connect(**params)\n",
    "    cursor = conn.cursor()\n",
    "    insert_query = sql.SQL(\"\"\"\n",
    "    INSERT INTO ham_ops.amateur_data VALUES ({})\n",
    "    \"\"\").format(sql.SQL(', ').join(sql.Placeholder() * len(data[0])))\n",
    "    cursor.executemany(insert_query, data)\n",
    "    conn.commit()\n",
    "    cursor.close()\n",
    "    conn.close()\n",
    "\n",
    "# Function to process the .dat file and load data\n",
    "def process_and_load(filename, db_params):\n",
    "    with open(filename, 'r', newline='') as file:\n",
    "        reader = csv.reader(file, delimiter='|')\n",
    "        data = [[None if cell == '' else cell for cell in row] for row in reader]\n",
    "    insert_data(db_params, data)"
   ]
  },
  {
   "cell_type": "code",
   "execution_count": 9,
   "id": "fb6b279e-3620-45ed-9c5d-1a4be608cfa9",
   "metadata": {},
   "outputs": [
    {
     "ename": "KeyboardInterrupt",
     "evalue": "",
     "output_type": "error",
     "traceback": [
      "\u001b[0;31m---------------------------------------------------------------------------\u001b[0m",
      "\u001b[0;31mKeyboardInterrupt\u001b[0m                         Traceback (most recent call last)",
      "Cell \u001b[0;32mIn[9], line 5\u001b[0m\n\u001b[1;32m      2\u001b[0m setup_database(db_params, create_table_query)\n\u001b[1;32m      4\u001b[0m \u001b[38;5;66;03m# Process the .dat file and load the data into the database\u001b[39;00m\n\u001b[0;32m----> 5\u001b[0m \u001b[43mprocess_and_load\u001b[49m\u001b[43m(\u001b[49m\u001b[43mdata_path\u001b[49m\u001b[43m,\u001b[49m\u001b[43m \u001b[49m\u001b[43mdb_params\u001b[49m\u001b[43m)\u001b[49m\n",
      "Cell \u001b[0;32mIn[8], line 26\u001b[0m, in \u001b[0;36mprocess_and_load\u001b[0;34m(filename, db_params)\u001b[0m\n\u001b[1;32m     24\u001b[0m     reader \u001b[38;5;241m=\u001b[39m csv\u001b[38;5;241m.\u001b[39mreader(file, delimiter\u001b[38;5;241m=\u001b[39m\u001b[38;5;124m'\u001b[39m\u001b[38;5;124m|\u001b[39m\u001b[38;5;124m'\u001b[39m)\n\u001b[1;32m     25\u001b[0m     data \u001b[38;5;241m=\u001b[39m [[\u001b[38;5;28;01mNone\u001b[39;00m \u001b[38;5;28;01mif\u001b[39;00m cell \u001b[38;5;241m==\u001b[39m \u001b[38;5;124m'\u001b[39m\u001b[38;5;124m'\u001b[39m \u001b[38;5;28;01melse\u001b[39;00m cell \u001b[38;5;28;01mfor\u001b[39;00m cell \u001b[38;5;129;01min\u001b[39;00m row] \u001b[38;5;28;01mfor\u001b[39;00m row \u001b[38;5;129;01min\u001b[39;00m reader]\n\u001b[0;32m---> 26\u001b[0m \u001b[43minsert_data\u001b[49m\u001b[43m(\u001b[49m\u001b[43mdb_params\u001b[49m\u001b[43m,\u001b[49m\u001b[43m \u001b[49m\u001b[43mdata\u001b[49m\u001b[43m)\u001b[49m\n",
      "Cell \u001b[0;32mIn[8], line 16\u001b[0m, in \u001b[0;36minsert_data\u001b[0;34m(params, data)\u001b[0m\n\u001b[1;32m     12\u001b[0m cursor \u001b[38;5;241m=\u001b[39m conn\u001b[38;5;241m.\u001b[39mcursor()\n\u001b[1;32m     13\u001b[0m insert_query \u001b[38;5;241m=\u001b[39m sql\u001b[38;5;241m.\u001b[39mSQL(\u001b[38;5;124m\"\"\"\u001b[39m\n\u001b[1;32m     14\u001b[0m \u001b[38;5;124mINSERT INTO amateur_data VALUES (\u001b[39m\u001b[38;5;132;01m{}\u001b[39;00m\u001b[38;5;124m)\u001b[39m\n\u001b[1;32m     15\u001b[0m \u001b[38;5;124m\u001b[39m\u001b[38;5;124m\"\"\"\u001b[39m)\u001b[38;5;241m.\u001b[39mformat(sql\u001b[38;5;241m.\u001b[39mSQL(\u001b[38;5;124m'\u001b[39m\u001b[38;5;124m, \u001b[39m\u001b[38;5;124m'\u001b[39m)\u001b[38;5;241m.\u001b[39mjoin(sql\u001b[38;5;241m.\u001b[39mPlaceholder() \u001b[38;5;241m*\u001b[39m \u001b[38;5;28mlen\u001b[39m(data[\u001b[38;5;241m0\u001b[39m])))\n\u001b[0;32m---> 16\u001b[0m \u001b[43mcursor\u001b[49m\u001b[38;5;241;43m.\u001b[39;49m\u001b[43mexecutemany\u001b[49m\u001b[43m(\u001b[49m\u001b[43minsert_query\u001b[49m\u001b[43m,\u001b[49m\u001b[43m \u001b[49m\u001b[43mdata\u001b[49m\u001b[43m)\u001b[49m\n\u001b[1;32m     17\u001b[0m conn\u001b[38;5;241m.\u001b[39mcommit()\n\u001b[1;32m     18\u001b[0m cursor\u001b[38;5;241m.\u001b[39mclose()\n",
      "File \u001b[0;32m~/.local/lib/python3.10/site-packages/psycopg2/sql.py:119\u001b[0m, in \u001b[0;36mComposed.as_string\u001b[0;34m(self, context)\u001b[0m\n\u001b[1;32m    116\u001b[0m \u001b[38;5;250m    \u001b[39m\u001b[38;5;124;03m\"\"\"The list of the content of the `!Composed`.\"\"\"\u001b[39;00m\n\u001b[1;32m    117\u001b[0m     \u001b[38;5;28;01mreturn\u001b[39;00m \u001b[38;5;28mlist\u001b[39m(\u001b[38;5;28mself\u001b[39m\u001b[38;5;241m.\u001b[39m_wrapped)\n\u001b[0;32m--> 119\u001b[0m \u001b[38;5;28;01mdef\u001b[39;00m \u001b[38;5;21mas_string\u001b[39m(\u001b[38;5;28mself\u001b[39m, context):\n\u001b[1;32m    120\u001b[0m     rv \u001b[38;5;241m=\u001b[39m []\n\u001b[1;32m    121\u001b[0m     \u001b[38;5;28;01mfor\u001b[39;00m i \u001b[38;5;129;01min\u001b[39;00m \u001b[38;5;28mself\u001b[39m\u001b[38;5;241m.\u001b[39m_wrapped:\n",
      "\u001b[0;31mKeyboardInterrupt\u001b[0m: "
     ]
    }
   ],
   "source": [
    "# Set up the database table\n",
    "setup_database(db_params, create_table_query)\n",
    "\n",
    "# Process the .dat file and load the data into the database\n",
    "process_and_load(data_path, db_params)"
   ]
  }
 ],
 "metadata": {
  "kernelspec": {
   "display_name": "Python 3 (ipykernel)",
   "language": "python",
   "name": "python3"
  },
  "language_info": {
   "codemirror_mode": {
    "name": "ipython",
    "version": 3
   },
   "file_extension": ".py",
   "mimetype": "text/x-python",
   "name": "python",
   "nbconvert_exporter": "python",
   "pygments_lexer": "ipython3",
   "version": "3.10.10"
  }
 },
 "nbformat": 4,
 "nbformat_minor": 5
}
